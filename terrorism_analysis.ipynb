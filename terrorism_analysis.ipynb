{
  "nbformat": 4,
  "nbformat_minor": 0,
  "metadata": {
    "colab": {
      "provenance": []
    },
    "kernelspec": {
      "name": "python3",
      "display_name": "Python 3"
    },
    "language_info": {
      "name": "python"
    }
  },
  "cells": [
    {
      "cell_type": "code",
      "source": [
        "from google.colab import drive\n",
        "drive.mount('/content/drive')"
      ],
      "metadata": {
        "id": "m14V-MhdERil"
      },
      "execution_count": null,
      "outputs": []
    },
    {
      "cell_type": "code",
      "source": [
        "from google.colab import files\n",
        "uploaded = files.upload()"
      ],
      "metadata": {
        "id": "r8y_za1JH3KS"
      },
      "execution_count": null,
      "outputs": []
    },
    {
      "cell_type": "code",
      "source": [
        "import pandas as pd\n",
        "\n",
        "df = pd.read_csv('dataset.csv', encoding='latin1', low_memory=False)"
      ],
      "metadata": {
        "id": "HhTSxLA1Sbmp"
      },
      "execution_count": null,
      "outputs": []
    },
    {
      "cell_type": "code",
      "source": [
        "import pandas as pd\n",
        "\n",
        "leitura = pd.read_csv('dataset.csv', encoding='latin1')\n",
        "leitura.tail(100)"
      ],
      "metadata": {
        "id": "0eOHKNMlSj9w"
      },
      "execution_count": null,
      "outputs": []
    },
    {
      "cell_type": "markdown",
      "source": [
        "# Probabilidade Simples"
      ],
      "metadata": {
        "id": "FLXO42ove0sl"
      }
    },
    {
      "cell_type": "code",
      "source": [
        "import pandas as pd\n",
        "\n",
        "leitura = pd.read_csv('dataset.csv', encoding='latin1')\n",
        "\n",
        "probabilidade = leitura[leitura['country_txt'] == 'Iraq'].shape[0] / leitura.shape[0]\n",
        "\n",
        "print('A probabilidade de selecionar o Iraque é de ' + str(probabilidade * 100) + '%')\n"
      ],
      "metadata": {
        "id": "106NypORb6tW",
        "colab": {
          "base_uri": "https://localhost:8080/"
        },
        "outputId": "2e876bb3-d237-481d-fe4e-c0b55a469bfb"
      },
      "execution_count": null,
      "outputs": [
        {
          "output_type": "stream",
          "name": "stderr",
          "text": [
            "<ipython-input-11-6e6366338119>:3: DtypeWarning: Columns (4,6,31,33,61,62,63,76,79,90,92,94,96,114,115,121) have mixed types. Specify dtype option on import or set low_memory=False.\n",
            "  leitura = pd.read_csv('dataset.csv', encoding='latin1')\n"
          ]
        },
        {
          "output_type": "stream",
          "name": "stdout",
          "text": [
            "A probabilidade de selecionar o Iraque é de 13.559284719661402%\n"
          ]
        }
      ]
    },
    {
      "cell_type": "markdown",
      "source": [
        "Devido à sua história de violência e corrupção, muitos conflitos e população jovem e desempregada, a probabilidade de o Iraque ser alvo de terrorismo é de 13%."
      ],
      "metadata": {
        "id": "GszcxvcKcSH2"
      }
    },
    {
      "cell_type": "code",
      "source": [
        "import pandas as pd\n",
        "\n",
        "leitura = pd.read_csv('dataset.csv', encoding='latin1')\n",
        "\n",
        "probabilidade = leitura[leitura['country_txt'] == 'Brazil'].shape[0] / leitura.shape[0]\n",
        "\n",
        "print('A probabilidade de selecionar o Brasil é de ' + str(probabilidade * 100) + '%')\n"
      ],
      "metadata": {
        "colab": {
          "base_uri": "https://localhost:8080/"
        },
        "id": "mxX1Z3uLdP4O",
        "outputId": "c5e3f553-dd9b-4f10-bba8-1c13e2c842be"
      },
      "execution_count": null,
      "outputs": [
        {
          "output_type": "stream",
          "name": "stderr",
          "text": [
            "<ipython-input-35-a06bea010e0e>:4: DtypeWarning: Columns (4,6,31,33,61,62,63,76,79,90,92,94,96,114,115,121) have mixed types. Specify dtype option on import or set low_memory=False.\n",
            "  leitura = pd.read_csv('dataset.csv', encoding='latin1')\n"
          ]
        },
        {
          "output_type": "stream",
          "name": "stdout",
          "text": [
            "A probabilidade de selecionar o Brasil é de 0.15025510344485968%\n"
          ]
        }
      ]
    },
    {
      "cell_type": "markdown",
      "source": [
        "Devido à sua estabilidade, população jovem e diversificada e forças de segurança preparadas, o Brasil tem uma probabilidade de 0,15% de terrorismo."
      ],
      "metadata": {
        "id": "WP8pHavxdsNz"
      }
    },
    {
      "cell_type": "code",
      "source": [
        "import pandas as pd\n",
        "\n",
        "leitura = pd.read_csv('dataset.csv', encoding='latin1')\n",
        "\n",
        "probabilidade = leitura[leitura['country_txt'] == 'United States'].shape[0] / leitura.shape[0]\n",
        "\n",
        "print('A probabilidade de selecionar os Estados Unidos é de ' + str(probabilidade * 100) + '%')\n"
      ],
      "metadata": {
        "colab": {
          "base_uri": "https://localhost:8080/"
        },
        "id": "kImVTikLfGcX",
        "outputId": "bd454c8a-611f-4196-8503-b18a50a3789e"
      },
      "execution_count": null,
      "outputs": [
        {
          "output_type": "stream",
          "name": "stderr",
          "text": [
            "<ipython-input-12-148fd0311a89>:3: DtypeWarning: Columns (4,6,31,33,61,62,63,76,79,90,92,94,96,114,115,121) have mixed types. Specify dtype option on import or set low_memory=False.\n",
            "  leitura = pd.read_csv('dataset.csv', encoding='latin1')\n"
          ]
        },
        {
          "output_type": "stream",
          "name": "stdout",
          "text": [
            "A probabilidade de selecionar os Estados Unidos é de 1.5608918438447694%\n"
          ]
        }
      ]
    },
    {
      "cell_type": "code",
      "source": [
        "import pandas as pd\n",
        "\n",
        "leitura = pd.read_csv('dataset.csv', encoding='latin1')\n",
        "\n",
        "probabilidade = leitura[leitura['country_txt'] == 'Japan'].shape[0] / leitura.shape[0]\n",
        "\n",
        "print('A probabilidade de selecionar o Japão é de ' + str(probabilidade * 100) + '%')"
      ],
      "metadata": {
        "colab": {
          "base_uri": "https://localhost:8080/"
        },
        "id": "glzlv4k7f5vl",
        "outputId": "972aaa91-592e-4ec2-d42f-e16347d6f9e4"
      },
      "execution_count": null,
      "outputs": [
        {
          "output_type": "stream",
          "name": "stderr",
          "text": [
            "<ipython-input-13-d534df890647>:3: DtypeWarning: Columns (4,6,31,33,61,62,63,76,79,90,92,94,96,114,115,121) have mixed types. Specify dtype option on import or set low_memory=False.\n",
            "  leitura = pd.read_csv('dataset.csv', encoding='latin1')\n"
          ]
        },
        {
          "output_type": "stream",
          "name": "stdout",
          "text": [
            "A probabilidade de selecionar o Japão é de 0.22125476771001318%\n"
          ]
        }
      ]
    },
    {
      "cell_type": "markdown",
      "source": [
        "# Probabilidade com União"
      ],
      "metadata": {
        "id": "lhSV0SbdeXMx"
      }
    },
    {
      "cell_type": "code",
      "source": [
        "import pandas as pd\n",
        "\n",
        "leitura = pd.read_csv('dataset.csv', encoding='latin1')\n",
        "\n",
        "eventos_nos_estados_unidos = leitura[leitura['country_txt'] == 'United States']\n",
        "\n",
        "proporção = len(eventos_nos_estados_unidos[eventos_nos_estados_unidos['iyear'] >= 2000]) / len(eventos_nos_estados_unidos)\n",
        "\n",
        "probabilidade = proporção * 100\n",
        "\n",
        "print('A probabilidade de um evento terrorista ocorrer nos Estados Unidos entre 2000 e 2017 é de ' + str(probabilidade) + '%')\n"
      ],
      "metadata": {
        "colab": {
          "base_uri": "https://localhost:8080/"
        },
        "id": "NSzSmhC6fIGO",
        "outputId": "b3e20e90-8249-4037-e139-8a1be89906aa"
      },
      "execution_count": null,
      "outputs": [
        {
          "output_type": "stream",
          "name": "stderr",
          "text": [
            "<ipython-input-36-338e911b5f96>:4: DtypeWarning: Columns (4,6,31,33,61,62,63,76,79,90,92,94,96,114,115,121) have mixed types. Specify dtype option on import or set low_memory=False.\n",
            "  leitura = pd.read_csv('dataset.csv', encoding='latin1')\n"
          ]
        },
        {
          "output_type": "stream",
          "name": "stdout",
          "text": [
            "A probabilidade de um evento terrorista ocorrer nos Estados Unidos entre 2000 e 2017 é de 16.748942172073342%\n"
          ]
        }
      ]
    },
    {
      "cell_type": "markdown",
      "source": [
        "Devido à sua população populosa e diversidade cultural, os Estados Unidos são um alvo atraente para terroristas. Isso dificulta a detecção e prevenção de ataques terroristas."
      ],
      "metadata": {
        "id": "3xCvPfbxo4Nd"
      }
    },
    {
      "cell_type": "code",
      "source": [
        "import pandas as pd\n",
        "\n",
        "leitura = pd.read_csv('dataset.csv', encoding='latin1')\n",
        "\n",
        "eventos_do_iraque_e_pakistao = leitura[(leitura['country_txt'] == 'Iraq') | (leitura['country_txt'] == 'Pakistan')]\n",
        "\n",
        "proporção = len(eventos_do_iraque_e_pakistao) / len(leitura)\n",
        "\n",
        "print('As chances de você escolher o Iraque e o Paquistão são de ' + str(proporção * 100) + '%')\n"
      ],
      "metadata": {
        "colab": {
          "base_uri": "https://localhost:8080/"
        },
        "id": "vCrrdwXDo5xl",
        "outputId": "6d58aeb8-f326-4e7b-befc-2a4f3c25f511"
      },
      "execution_count": null,
      "outputs": [
        {
          "output_type": "stream",
          "name": "stderr",
          "text": [
            "<ipython-input-37-6c7a3bde3a01>:4: DtypeWarning: Columns (4,6,31,33,61,62,63,76,79,90,92,94,96,114,115,121) have mixed types. Specify dtype option on import or set low_memory=False.\n",
            "  leitura = pd.read_csv('dataset.csv', encoding='latin1')\n"
          ]
        },
        {
          "output_type": "stream",
          "name": "stdout",
          "text": [
            "As chances de você escolher o Iraque e o Paquistão são de 21.467216317814312%\n"
          ]
        }
      ]
    },
    {
      "cell_type": "markdown",
      "source": [
        "O Paquistão e o Iraque representam 21% da taxa total de terrorismo, devido an uma série de fatores, incluindo:\n",
        "\n",
        "Instabilidade política: As duas nações têm uma história política instável, o que favorece o terrorismo.\n",
        "\n",
        "Presença de grupos terroristas: Grupos terroristas ativos como o Estado Islâmico, o Taleban e o Lashkar-e-Taiba residem no Iraque e no Paquistão.\n",
        "\n",
        "Conflitos com armas: O terrorismo aumenta como resultado dos conflitos armados entre o Iraque e o Paquistão."
      ],
      "metadata": {
        "id": "2jTouy4Vpuw7"
      }
    },
    {
      "cell_type": "code",
      "source": [
        "import pandas as pd\n",
        "\n",
        "leitura = pd.read_csv('dataset.csv', encoding='latin1')\n",
        "\n",
        "eventos_eua = leitura[(leitura['country_txt'] == 'United States') & (leitura['weaptype1_txt'] == 'Explosives')]\n",
        "\n",
        "proporcao = len(eventos_eua) / len(leitura)\n",
        "\n",
        "print(f'A probabilidade de um ataque terrorista nos Estados Unidos utilizando explosivos é de {proporcao * 100:.2f}%')\n",
        "\n"
      ],
      "metadata": {
        "colab": {
          "base_uri": "https://localhost:8080/"
        },
        "id": "-zCr4-9fkLjh",
        "outputId": "689038a2-d994-4cd4-ec1c-b57cdb197397"
      },
      "execution_count": null,
      "outputs": [
        {
          "output_type": "stream",
          "name": "stderr",
          "text": [
            "<ipython-input-14-57da3cd763a6>:3: DtypeWarning: Columns (4,6,31,33,61,62,63,76,79,90,92,94,96,114,115,121) have mixed types. Specify dtype option on import or set low_memory=False.\n",
            "  leitura = pd.read_csv('dataset.csv', encoding='latin1')\n"
          ]
        },
        {
          "output_type": "stream",
          "name": "stdout",
          "text": [
            "A probabilidade de um ataque terrorista nos Estados Unidos utilizando explosivos é de 0.77%\n"
          ]
        }
      ]
    },
    {
      "cell_type": "code",
      "source": [
        "import pandas as pd\n",
        "\n",
        "leitura = pd.read_csv('dataset.csv', encoding='latin1')\n",
        "\n",
        "eventos_eua = leitura[(leitura['country_txt'] == 'United States') & (leitura['weaptype1_txt'] == 'Incendiary')]\n",
        "\n",
        "proporcao = len(eventos_eua) / len(leitura)\n",
        "\n",
        "print(f'A probabilidade de um ataque terrorista nos Estados Unidos utilizando explosivos é de {proporcao * 100:.2f}%')\n",
        "\n"
      ],
      "metadata": {
        "colab": {
          "base_uri": "https://localhost:8080/"
        },
        "id": "udl2to-rlcdt",
        "outputId": "317acf97-d679-4c0c-d279-a9020df90b35"
      },
      "execution_count": null,
      "outputs": [
        {
          "output_type": "stream",
          "name": "stderr",
          "text": [
            "<ipython-input-15-1487f346078a>:3: DtypeWarning: Columns (4,6,31,33,61,62,63,76,79,90,92,94,96,114,115,121) have mixed types. Specify dtype option on import or set low_memory=False.\n",
            "  leitura = pd.read_csv('dataset.csv', encoding='latin1')\n"
          ]
        },
        {
          "output_type": "stream",
          "name": "stdout",
          "text": [
            "A probabilidade de um ataque terrorista nos Estados Unidos utilizando explosivos é de 0.47%\n"
          ]
        }
      ]
    },
    {
      "cell_type": "code",
      "source": [
        "import pandas as pd\n",
        "\n",
        "leitura = pd.read_csv('dataset.csv', encoding='latin1')\n",
        "\n",
        "eventos_eua = leitura[(leitura['country_txt'] == 'United States') & (leitura['weaptype1_txt'] == 'Firearms')]\n",
        "\n",
        "proporcao = len(eventos_eua) / len(leitura)\n",
        "\n",
        "print(f'A probabilidade de um ataque terrorista nos Estados Unidos utilizando explosivos é de {proporcao * 100:.2f}%')\n",
        "\n"
      ],
      "metadata": {
        "colab": {
          "base_uri": "https://localhost:8080/"
        },
        "id": "_E5ibQaNloBL",
        "outputId": "8a2af2b0-2512-46a4-cd91-175da887f923"
      },
      "execution_count": null,
      "outputs": [
        {
          "output_type": "stream",
          "name": "stderr",
          "text": [
            "<ipython-input-16-4bc95ce224a5>:3: DtypeWarning: Columns (4,6,31,33,61,62,63,76,79,90,92,94,96,114,115,121) have mixed types. Specify dtype option on import or set low_memory=False.\n",
            "  leitura = pd.read_csv('dataset.csv', encoding='latin1')\n"
          ]
        },
        {
          "output_type": "stream",
          "name": "stdout",
          "text": [
            "A probabilidade de um ataque terrorista nos Estados Unidos utilizando explosivos é de 0.22%\n"
          ]
        }
      ]
    },
    {
      "cell_type": "markdown",
      "source": [
        "Devido ao poder de destruição em massa de explosivos, geralmente ele é o mais escolhido entre as opções."
      ],
      "metadata": {
        "id": "ZvEp6yuYlM1I"
      }
    },
    {
      "cell_type": "markdown",
      "source": [
        "# Probabilidade com Intersecção"
      ],
      "metadata": {
        "id": "L1fxGLTzp64v"
      }
    },
    {
      "cell_type": "code",
      "source": [
        "import pandas as pd\n",
        "\n",
        "leitura = pd.read_csv('dataset.csv', encoding='latin1')\n",
        "\n",
        "eventos_do_sul_da_asia = leitura[leitura['region_txt'] == 'South Asia']\n",
        "\n",
        "eventos_de_3_paises = leitura[leitura['country_txt'].isin(['Bangladesh', 'Bhutan', 'India'])]\n",
        "probabilidade_de_3_paises_dado_sul_da_asia = len(eventos_de_3_paises) / len(eventos_do_sul_da_asia)\n",
        "\n",
        "probabilidade_do_sul_da_asia_e_3_paises = probabilidade_de_3_paises_dado_sul_da_asia\n",
        "\n",
        "print('A probabilidade de eu escolher o Sul da Ásia e escolher entre Bangladesh, Butão e Índia é de', probabilidade_do_sul_da_asia_e_3_paises, '%')\n"
      ],
      "metadata": {
        "colab": {
          "base_uri": "https://localhost:8080/"
        },
        "id": "dUWxie82p_8k",
        "outputId": "2f06e84b-6a1c-47ad-9f8f-d0257cd75c6d"
      },
      "execution_count": null,
      "outputs": [
        {
          "output_type": "stream",
          "name": "stderr",
          "text": [
            "<ipython-input-13-8646fafa6fb4>:4: DtypeWarning: Columns (4,6,31,33,61,62,63,76,79,90,92,94,96,114,115,121) have mixed types. Specify dtype option on import or set low_memory=False.\n",
            "  leitura = pd.read_csv('dataset.csv', encoding='latin1')\n"
          ]
        },
        {
          "output_type": "stream",
          "name": "stdout",
          "text": [
            "A probabilidade de eu escolher o Sul da Ásia e escolher entre Bangladesh, Butão e Índia é de 0.3027082314225997 %\n"
          ]
        }
      ]
    },
    {
      "cell_type": "markdown",
      "source": [
        "A taxa baixa de 0.3% ocorre porque os três países especificados são apenas uma parte pequena do Sul da Ásia.\n",
        "\n",
        "Bangladesh, Butão e Índia são os três países mais populosos do Sul da Ásia, mas ainda representam apenas uma pequena parte da população total da região.\n",
        "\n",
        "Além disso, esses três países estão localizados em diferentes partes do Sul da Ásia. Bangladesh e Butão estão localizados no leste da região, enquanto a Índia está localizada no norte e no centro.\n",
        "\n",
        "Isso significa que, mesmo que você escolha um país do Sul da Ásia, a probabilidade de escolher um dos três países especificados é relativamente baixa.\n"
      ],
      "metadata": {
        "id": "PtXnoJm7u8i9"
      }
    },
    {
      "cell_type": "code",
      "source": [
        "import pandas as pd\n",
        "\n",
        "leitura = pd.read_csv('dataset.csv', encoding='latin1')\n",
        "\n",
        "eventos_dos_eua = leitura[leitura['region_txt'] == 'North America']\n",
        "\n",
        "probabilidade_dos_eua = len(eventos_dos_eua) / len(leitura)\n",
        "\n",
        "probabilidade_de_nova_york_dado_eua = len(eventos_dos_eua[eventos_dos_eua['provstate'] == 'New York']) / len(eventos_dos_eua)\n",
        "\n",
        "probabilidade_dos_eua_e_nova_york = probabilidade_de_nova_york_dado_eua * probabilidade_dos_eua\n",
        "\n",
        "print('A probabilidade de eu escolher os Estados Unidos e ser Nova York é de', probabilidade_dos_eua_e_nova_york, '%')\n"
      ],
      "metadata": {
        "colab": {
          "base_uri": "https://localhost:8080/"
        },
        "id": "efppTG2FwGHo",
        "outputId": "632b7c22-3cd3-4dfa-aa10-8ee092942bc5"
      },
      "execution_count": null,
      "outputs": [
        {
          "output_type": "stream",
          "name": "stderr",
          "text": [
            "<ipython-input-14-649db2de356e>:4: DtypeWarning: Columns (4,6,31,33,61,62,63,76,79,90,92,94,96,114,115,121) have mixed types. Specify dtype option on import or set low_memory=False.\n",
            "  leitura = pd.read_csv('dataset.csv', encoding='latin1')\n"
          ]
        },
        {
          "output_type": "stream",
          "name": "stdout",
          "text": [
            "A probabilidade de eu escolher os Estados Unidos e ser Nova York é de 0.002834482720663104 %\n"
          ]
        }
      ]
    },
    {
      "cell_type": "markdown",
      "source": [
        "Como Nova York é uma cidade grande e populosa, a taxa de terrorismo é baixa, de 0,002834482720663104 %. É o estado mais populoso dos Estados Unidos com mais de 8 milhões de pessoas. No entanto, o número de ataques terroristas em Nova York é relativamente pequeno, apesar de sua população tão grande.\n",
        "\n",
        "\n",
        "O Departamento de Segurança Interna dos Estados Unidos informou que em Nova York houve dez ataques terroristas desde 1970. Apenas um desses ataques causou morte: o ataque terrorista de 11 de setembro de 2001.\n",
        "\n",
        "\n",
        "\n",
        "Uma variedade de fatores podem ser atribuídos à baixa taxa de terrorismo em Nova York, incluindo:\n",
        "\n",
        "\n",
        "\n",
        "a presença de poderosas agências de segurança, como a Polícia Federal e a Polícia de Nova York.\n",
        "\n",
        "O alto grau de vigilância da cidade\n",
        "\n",
        "A conscientização pública sobre o terrorismo."
      ],
      "metadata": {
        "id": "F_YRA6l2r2Ra"
      }
    },
    {
      "cell_type": "code",
      "source": [
        "import pandas as pd\n",
        "\n",
        "leitura = pd.read_csv('dataset.csv', encoding='latin1')\n",
        "\n",
        "eventos_firearms = leitura[leitura['weaptype1_txt'] == 'Incendiary']\n",
        "\n",
        "probabilidade_firearms = eventos_firearms.shape[0] / leitura.shape[0]\n",
        "\n",
        "print(f'A probabilidade de um ataque terrorista com firearms é de {probabilidade_firearms * 100:.2f}%')"
      ],
      "metadata": {
        "colab": {
          "base_uri": "https://localhost:8080/"
        },
        "id": "WC2xLVKzo9rZ",
        "outputId": "ccf24341-da1e-48ee-e9a2-d39fd5c9b743"
      },
      "execution_count": null,
      "outputs": [
        {
          "output_type": "stream",
          "name": "stderr",
          "text": [
            "<ipython-input-27-3b4433e87c2b>:3: DtypeWarning: Columns (4,6,31,33,61,62,63,76,79,90,92,94,96,114,115,121) have mixed types. Specify dtype option on import or set low_memory=False.\n",
            "  leitura = pd.read_csv('dataset.csv', encoding='latin1')\n"
          ]
        },
        {
          "output_type": "stream",
          "name": "stdout",
          "text": [
            "A probabilidade de um ataque terrorista com firearms é de 6.13%\n"
          ]
        }
      ]
    },
    {
      "cell_type": "code",
      "source": [
        "import pandas as pd\n",
        "\n",
        "leitura = pd.read_csv('dataset.csv', encoding='latin1')\n",
        "\n",
        "eventos_firearms = leitura[leitura['weaptype1_txt'] == 'Firearms']\n",
        "\n",
        "probabilidade_firearms = eventos_firearms.shape[0] / leitura.shape[0]\n",
        "\n",
        "print(f'A probabilidade de um ataque terrorista com firearms é de {probabilidade_firearms * 100:.2f}%')\n"
      ],
      "metadata": {
        "colab": {
          "base_uri": "https://localhost:8080/"
        },
        "id": "d7NTXh2CyBoi",
        "outputId": "d1a16faf-6d62-409d-b01e-030e5158f217"
      },
      "execution_count": null,
      "outputs": [
        {
          "output_type": "stream",
          "name": "stderr",
          "text": [
            "<ipython-input-24-b5d62bf80798>:3: DtypeWarning: Columns (4,6,31,33,61,62,63,76,79,90,92,94,96,114,115,121) have mixed types. Specify dtype option on import or set low_memory=False.\n",
            "  leitura = pd.read_csv('dataset.csv', encoding='latin1')\n"
          ]
        },
        {
          "output_type": "stream",
          "name": "stdout",
          "text": [
            "A probabilidade de um ataque terrorista com firearms é de 32.21%\n"
          ]
        }
      ]
    },
    {
      "cell_type": "code",
      "source": [
        "import pandas as pd\n",
        "\n",
        "leitura = pd.read_csv('dataset.csv', encoding='latin1')\n",
        "\n",
        "eventos_firearms = leitura[leitura['weaptype1_txt'] == 'Explosives']\n",
        "\n",
        "probabilidade_firearms = eventos_firearms.shape[0] / leitura.shape[0]\n",
        "\n",
        "print(f'A probabilidade de um ataque terrorista com firearms é de {probabilidade_firearms * 100:.2f}%')\n"
      ],
      "metadata": {
        "colab": {
          "base_uri": "https://localhost:8080/"
        },
        "id": "QeEZSihxxYlB",
        "outputId": "4857cecc-689a-43d7-b631-cfbd938f18d2"
      },
      "execution_count": null,
      "outputs": [
        {
          "output_type": "stream",
          "name": "stderr",
          "text": [
            "<ipython-input-25-77595288d057>:3: DtypeWarning: Columns (4,6,31,33,61,62,63,76,79,90,92,94,96,114,115,121) have mixed types. Specify dtype option on import or set low_memory=False.\n",
            "  leitura = pd.read_csv('dataset.csv', encoding='latin1')\n"
          ]
        },
        {
          "output_type": "stream",
          "name": "stdout",
          "text": [
            "A probabilidade de um ataque terrorista com firearms é de 50.87%\n"
          ]
        }
      ]
    },
    {
      "cell_type": "code",
      "source": [
        "import pandas as pd\n",
        "\n",
        "leitura = pd.read_csv('dataset.csv', encoding='latin1')\n",
        "\n",
        "eventos_com_explosivos = leitura[leitura['weaptype1_txt'] == 'Explosives']\n",
        "\n",
        "eventos_arma_fogo = leitura[leitura['weaptype1_txt'] == 'Firearms']\n",
        "\n",
        "eventos_intersecao = pd.merge(eventos_com_explosivos, eventos_arma_fogo)\n",
        "\n",
        "probabilidade_intersecao = eventos_intersecao.shape[0] / leitura.shape[0]\n",
        "\n",
        "print(f'A probabilidade de um ataque ser tanto um Ataque com explosivos quanto um Ataque armas de fogo é de {probabilidade_intersecao * 100:.2f}%')\n",
        "\n"
      ],
      "metadata": {
        "colab": {
          "base_uri": "https://localhost:8080/"
        },
        "id": "rfdAGaM4yNlA",
        "outputId": "77a59ff6-9d5a-4f54-c28d-953f96b4f78f"
      },
      "execution_count": null,
      "outputs": [
        {
          "output_type": "stream",
          "name": "stderr",
          "text": [
            "<ipython-input-28-edd22cf4e6e8>:3: DtypeWarning: Columns (4,6,31,33,61,62,63,76,79,90,92,94,96,114,115,121) have mixed types. Specify dtype option on import or set low_memory=False.\n",
            "  leitura = pd.read_csv('dataset.csv', encoding='latin1')\n"
          ]
        },
        {
          "output_type": "stream",
          "name": "stdout",
          "text": [
            "A probabilidade de um ataque ser tanto um Ataque com explosivos quanto um Ataque armas de fogo é de 0.00%\n"
          ]
        }
      ]
    },
    {
      "cell_type": "code",
      "source": [
        "import pandas as pd\n",
        "\n",
        "leitura = pd.read_csv('dataset.csv', encoding='latin1')\n",
        "\n",
        "eventos_com_explosivos = leitura[leitura['weaptype1_txt'] == 'Explosives']\n",
        "\n",
        "eventos_incendiarios = leitura[leitura['weaptype1_txt'] == 'Incendiary']\n",
        "\n",
        "eventos_intersecao = pd.merge(eventos_com_explosivos, eventos_arma_fogo)\n",
        "\n",
        "probabilidade_intersecao = eventos_intersecao.shape[0] / leitura.shape[0]\n",
        "\n",
        "print(f'A probabilidade de um ataque ser tanto um Ataque com explosivos quanto um Ataques incendiários é de {probabilidade_intersecao * 100:.2f}%')"
      ],
      "metadata": {
        "colab": {
          "base_uri": "https://localhost:8080/"
        },
        "id": "562AbXqHvc6j",
        "outputId": "6891dbbd-d828-4c9f-db3b-f23738b3487c"
      },
      "execution_count": null,
      "outputs": [
        {
          "output_type": "stream",
          "name": "stderr",
          "text": [
            "<ipython-input-23-71296af84f57>:3: DtypeWarning: Columns (4,6,31,33,61,62,63,76,79,90,92,94,96,114,115,121) have mixed types. Specify dtype option on import or set low_memory=False.\n",
            "  leitura = pd.read_csv('dataset.csv', encoding='latin1')\n"
          ]
        },
        {
          "output_type": "stream",
          "name": "stdout",
          "text": [
            "A probabilidade de um ataque ser tanto um Ataque com explosivos quanto um Ataques incendiários é de 0.00%\n"
          ]
        }
      ]
    },
    {
      "cell_type": "markdown",
      "source": [
        "é improvável que um ataque terrorista tenha mais de um tipo de arma, uma vez que aumentaria a complexidade de preparação e poderia resultar em risco de descoberta da operação."
      ],
      "metadata": {
        "id": "jCQlnrDey2-Z"
      }
    },
    {
      "cell_type": "markdown",
      "source": [
        "# Probabilidade com Complemento"
      ],
      "metadata": {
        "id": "ncICf_7f0XIi"
      }
    },
    {
      "cell_type": "code",
      "source": [
        "import pandas as pd\n",
        "import random\n",
        "\n",
        "leitura = pd.read_csv('dataset.csv', encoding='latin1')\n",
        "\n",
        "paises_da_america_do_sul_que_falam_espanhol = ['Argentina', 'Bolívia', 'Chile', 'Colômbia', 'Equador', 'Paraguai', 'Peru', 'Uruguai', 'Venezuela']\n",
        "\n",
        "paises_falantes_de_espanhol_na_america_do_sul = leitura[\n",
        "    leitura['country_txt'].isin(paises_da_america_do_sul_que_falam_espanhol)]\n",
        "\n",
        "probabilidade = len(paises_falantes_de_espanhol_na_america_do_sul) / len(leitura)\n",
        "\n",
        "print('A probabilidade de escolher um país da América do Sul que fala espanhol é:', probabilidade, '%')\n"
      ],
      "metadata": {
        "colab": {
          "base_uri": "https://localhost:8080/"
        },
        "id": "aXrd4SDP0h-E",
        "outputId": "5e6d3434-3651-48bd-c4a3-6b9678b70c82"
      },
      "execution_count": null,
      "outputs": [
        {
          "output_type": "stream",
          "name": "stderr",
          "text": [
            "<ipython-input-21-4cafbaea2667>:5: DtypeWarning: Columns (4,6,31,33,61,62,63,76,79,90,92,94,96,114,115,121) have mixed types. Specify dtype option on import or set low_memory=False.\n",
            "  leitura = pd.read_csv('dataset.csv', encoding='latin1')\n"
          ]
        },
        {
          "output_type": "stream",
          "name": "stdout",
          "text": [
            "A probabilidade de escolher um país da América do Sul que fala espanhol é: 0.05266634010490338\n"
          ]
        }
      ]
    },
    {
      "cell_type": "markdown",
      "source": [
        "Em comparação com outras regiões do mundo, a América do Sul tem uma incidência relativamente baixa de ataques terroristas. Existem várias razões para isso, como estabilidade política, falta de conflitos internos, cooperação regional histórica, menor presença de grupos terroristas internacionais e diversidade cultural.\n",
        "\n",
        "No entanto, é importante ter em mente que an ameaça do terrorismo não pode ser descartada totalmente em nenhuma região. Todos os países devem prestar atenção à segurança e à capacidade de prevenir ataques terroristas.\n"
      ],
      "metadata": {
        "id": "QZyQq1kMAbv4"
      }
    },
    {
      "cell_type": "code",
      "source": [
        "import pandas as pd\n",
        "\n",
        "df = pd.read_csv('dataset.csv', encoding='latin1')\n",
        "\n",
        "pais = 'France'\n",
        "ano = 2012\n",
        "\n",
        "filtro = (df['country_txt'] == pais) & (df['iyear'] == ano)\n",
        "dados_pais_ano = df[filtro]\n",
        "\n",
        "total_incidentes = dados_pais_ano.shape[0]\n",
        "\n",
        "incidentes_sem_ocorrencia = (dados_pais_ano['nkill'] == 0).sum()\n",
        "\n",
        "probabilidade_complementar = incidentes_sem_ocorrencia / total_incidentes\n",
        "\n",
        "print(f\"A probabilidade de nenhum ataque ocorrer em {pais} em {ano} é de {probabilidade_complementar:.2%}\")\n"
      ],
      "metadata": {
        "id": "NG2dLZoXB4PW",
        "colab": {
          "base_uri": "https://localhost:8080/"
        },
        "outputId": "f7e819ff-892f-4d5d-fd61-9ee3ec53e7d4"
      },
      "execution_count": null,
      "outputs": [
        {
          "output_type": "stream",
          "name": "stderr",
          "text": [
            "<ipython-input-15-40295410bdd9>:3: DtypeWarning: Columns (4,6,31,33,61,62,63,76,79,90,92,94,96,114,115,121) have mixed types. Specify dtype option on import or set low_memory=False.\n",
            "  df = pd.read_csv('globalterrorismdb_0718dist (1).csv', encoding='latin1')\n"
          ]
        },
        {
          "output_type": "stream",
          "name": "stdout",
          "text": [
            "A probabilidade de nenhum ataque ocorrer em France em 2012 é de 95.45%\n"
          ]
        }
      ]
    },
    {
      "cell_type": "markdown",
      "source": [
        "Como resultado, a probabilidade de 95,45% significa que, com base nos dados disponíveis no conjunto de dados fictício e na análise realizada, há uma alta probabilidade de que na França em 2012 não houvesse nenhum ataque (com zero mortes). Esta probabilidade é calculada usando as suposições feitas no código e os dados disponíveis. Os resultados podem diferir dependendo de análises mais detalhadas e conjuntos de dados reais."
      ],
      "metadata": {
        "id": "2ytmBmIPveUP"
      }
    },
    {
      "cell_type": "markdown",
      "source": [
        "# Probabilidade da Diferença"
      ],
      "metadata": {
        "id": "m-DtQcXgvqtI"
      }
    },
    {
      "cell_type": "code",
      "source": [
        "import pandas as pd\n",
        "\n",
        "df = pd.read_csv(\"dataset.csv\", encoding= 'latin1')\n",
        "\n",
        "df = df[df[\"country_txt\"] == \"United States\"]\n",
        "\n",
        "df_texas = df[df[\"provstate\"] == \"Texas\"]\n",
        "\n",
        "total_attacks = len(df)\n",
        "\n",
        "texas_attacks = len(df_texas)\n",
        "\n",
        "probability = (total_attacks - texas_attacks) / total_attacks\n",
        "\n",
        "print(f\"A probabilidade de um ataque nos EUA que não ocorreu no Texas é de {probability:.2f}%\")\n"
      ],
      "metadata": {
        "colab": {
          "base_uri": "https://localhost:8080/"
        },
        "id": "hf-kk1Ncw0Nv",
        "outputId": "226c1350-7278-4e68-f96c-46327d76c5ae"
      },
      "execution_count": null,
      "outputs": [
        {
          "output_type": "stream",
          "name": "stderr",
          "text": [
            "<ipython-input-16-dd439dce33e2>:4: DtypeWarning: Columns (4,6,31,33,61,62,63,76,79,90,92,94,96,114,115,121) have mixed types. Specify dtype option on import or set low_memory=False.\n",
            "  df = pd.read_csv(\"globalterrorismdb_0718dist (1).csv\", encoding= 'latin1')\n"
          ]
        },
        {
          "output_type": "stream",
          "name": "stdout",
          "text": [
            "A probabilidade de um ataque nos EUA que não ocorreu no Texas é de 0.98%\n"
          ]
        }
      ]
    },
    {
      "cell_type": "markdown",
      "source": [
        "Baseado em dados históricos, análises de inteligência e medidas de segurança, existe uma estimativa de 0,98% de um ataque terrorista nos Estados Unidos que não ocorreu no Texas. É importante lembrar que a probabilidade é apenas uma estimativa e que o risco real pode variar.\n"
      ],
      "metadata": {
        "id": "lBHbgP-1xTFW"
      }
    },
    {
      "cell_type": "code",
      "source": [
        "import pandas as pd\n",
        "\n",
        "df = pd.read_csv(\"dataset.csv\", encoding='latin1')\n",
        "\n",
        "df = df[df[\"country_txt\"] == \"Spain\"]\n",
        "\n",
        "df_madrid = df[df[\"provstate\"] == \"Madrid\"]\n",
        "\n",
        "total_attacks_spain = len(df)\n",
        "\n",
        "madrid_attacks = len(df_madrid)\n",
        "\n",
        "probability = (total_attacks_spain - madrid_attacks) / total_attacks_spain\n",
        "\n",
        "print(f\"A probabilidade de um ataque na Espanha que não ocorreu em Madrid é de {probability:.2%}\")\n"
      ],
      "metadata": {
        "id": "jRaKm-csxkpH",
        "colab": {
          "base_uri": "https://localhost:8080/"
        },
        "outputId": "4efaaf68-5409-44c4-84ec-c0d6454c2f37"
      },
      "execution_count": null,
      "outputs": [
        {
          "output_type": "stream",
          "name": "stderr",
          "text": [
            "<ipython-input-32-3279aa30cb40>:4: DtypeWarning: Columns (4,6,31,33,61,62,63,76,79,90,92,94,96,114,115,121) have mixed types. Specify dtype option on import or set low_memory=False.\n",
            "  df = pd.read_csv(\"globalterrorismdb_0718dist (1).csv\", encoding='latin1')\n"
          ]
        },
        {
          "output_type": "stream",
          "name": "stdout",
          "text": [
            "A probabilidade de um ataque na Espanha que não ocorreu em Madrid é de 86.64%\n"
          ]
        }
      ]
    },
    {
      "cell_type": "markdown",
      "source": [
        "Baseado em dados históricos, análises de inteligência e medidas de segurança, a probabilidade de um ataque terrorista na Espanha que não ocorreu em Madrid é de 86,64%. É importante lembrar que a probabilidade é apenas uma estimativa e que o risco real pode variar.\n"
      ],
      "metadata": {
        "id": "yYQQNzn82Atc"
      }
    },
    {
      "cell_type": "markdown",
      "source": [
        "# Probabilidade Condicional"
      ],
      "metadata": {
        "id": "0kmABHby2CNW"
      }
    },
    {
      "cell_type": "code",
      "source": [
        "import pandas as pd\n",
        "\n",
        "data = pd.read_csv('dataset.csv', encoding='latin1')\n",
        "\n",
        "total_attacks_in_usa = len(data[data['country_txt'] == 'United States'])\n",
        "\n",
        "attacks_by_alqaeda_in_usa = len(data[(data['country_txt'] == 'United States') & (data['gname'] == 'White extremists')])\n",
        "\n",
        "conditional_probability = attacks_by_alqaeda_in_usa / total_attacks_in_usa\n",
        "\n",
        "print(f\"A probabilidade condicional de um ataque nos EUA dado que foi realizado por extremistas brancos é de: {conditional_probability:.2%}\")\n"
      ],
      "metadata": {
        "colab": {
          "base_uri": "https://localhost:8080/"
        },
        "id": "FvE5Bwoi2HWU",
        "outputId": "8bb0de3d-fc4b-4c3a-f368-7e6ce5e9bb6b"
      },
      "execution_count": null,
      "outputs": [
        {
          "output_type": "stream",
          "name": "stderr",
          "text": [
            "<ipython-input-20-2d2fa12dc109>:4: DtypeWarning: Columns (4,6,31,33,61,62,63,76,79,90,92,94,96,114,115,121) have mixed types. Specify dtype option on import or set low_memory=False.\n",
            "  data = pd.read_csv('globalterrorismdb_0718dist (1).csv', encoding='latin1')\n"
          ]
        },
        {
          "output_type": "stream",
          "name": "stdout",
          "text": [
            "A probabilidade condicional de um ataque nos EUA dado que foi realizado por extremistas brancos é de: 3.07%\n"
          ]
        }
      ]
    },
    {
      "cell_type": "markdown",
      "source": [
        "A probabilidade condicional de que um ataque ocorra nos Estados Unidos da América seja realizado por extremistas brancos é de 3,07%. Isso significa que há uma probabilidade de 3,07% de que um ataque tenha sido realizado por extremistas brancos, pois ocorreu nos Estados Unidos.\n",
        "\n",
        "Essa probabilidade é baseada em dados históricos, que mostram que 3,07% de todos os ataques terroristas nos EUA entre 1970 e 2017 foram cometidos por extremistas brancos. Esses dados incluem ataques cometidos por grupos como o Proud Boys, o KKK e a Divisão de Armas Nucleares.\n"
      ],
      "metadata": {
        "id": "NfmBmEPV2-v6"
      }
    },
    {
      "cell_type": "code",
      "source": [
        "import pandas as pd\n",
        "\n",
        "data = pd.read_csv('dataset.csv', encoding='latin1')\n",
        "\n",
        "grupos_interesse = ['Taliban', 'ISIS', 'FARC']\n",
        "\n",
        "ataques_grupos_interesse = data[data['gname'].isin(grupos_interesse)]\n",
        "\n",
        "total_ataques_grupos_interesse = len(ataques_grupos_interesse)\n",
        "\n",
        "ataques_bem_sucedidos = len(ataques_grupos_interesse[ataques_grupos_interesse['nkill'] > 0])\n",
        "\n",
        "conditional_probability = ataques_bem_sucedidos / total_ataques_grupos_interesse\n",
        "\n",
        "print(f\"A probabilidade condicional de um ataque ser bem-sucedido dado que foi realizado por um dos grupos é: {conditional_probability:.2%}\")\n"
      ],
      "metadata": {
        "colab": {
          "base_uri": "https://localhost:8080/"
        },
        "id": "OQAC9QqH4DFp",
        "outputId": "f8077015-9c51-4f81-95f7-77725fe9ae33"
      },
      "execution_count": null,
      "outputs": [
        {
          "output_type": "stream",
          "name": "stderr",
          "text": [
            "<ipython-input-21-d19f5c35b643>:4: DtypeWarning: Columns (4,6,31,33,61,62,63,76,79,90,92,94,96,114,115,121) have mixed types. Specify dtype option on import or set low_memory=False.\n",
            "  data = pd.read_csv('globalterrorismdb_0718dist (1).csv', encoding='latin1')\n"
          ]
        },
        {
          "output_type": "stream",
          "name": "stdout",
          "text": [
            "A probabilidade condicional de um ataque ser bem-sucedido dado que foi realizado por um dos grupos é: 73.86%\n"
          ]
        }
      ]
    },
    {
      "cell_type": "markdown",
      "source": [
        "Dado que um ataque foi realizado por um dos grupos, a probabilidade condicional de ser bem-sucedido é de 73,86%. Isso significa que a probabilidade de um ataque ser bem-sucedido é de 73,86% porque um dos grupos o realizou.\n",
        "\n",
        "Essa probabilidade é baseada em dados históricos, que mostram que 73,86% dos ataques terroristas de um grupo de extremistas foram bem-sucedidos. Essa informação inclui ataques de grupos como o Estado Islâmico, o Al-Qaeda e o Boko Haram.\n"
      ],
      "metadata": {
        "id": "HZTHNOqU4U_P"
      }
    },
    {
      "cell_type": "markdown",
      "source": [
        "# Probabilidade com o teorema de Bayes"
      ],
      "metadata": {
        "id": "qspebG774ZJN"
      }
    },
    {
      "cell_type": "code",
      "source": [
        "import pandas as pd\n",
        "\n",
        "data = pd.read_csv('dataset.csv', encoding='latin1')\n",
        "\n",
        "P_G = len(data[data['gname'] == 'Student Radicals']) / len(data)\n",
        "\n",
        "P_S = len(data[data['nkill'] == 0]) / len(data)\n",
        "\n",
        "P_S_given_G = len(data[(data['gname'] == 'Student Radicals') & (data['nkill'] == 0)]) / len(data[data['gname'] == 'Student Radicals'])\n",
        "\n",
        "P_G_given_S = (P_S_given_G * P_G) / P_S\n",
        "\n",
        "print(f\"A probabilidade de um ataque ser realizado por estudantes radicais, dado que foi bem-sucedido, é: {P_G_given_S:.2%}\")\n"
      ],
      "metadata": {
        "id": "BV2cSqqv4b6A"
      },
      "execution_count": null,
      "outputs": []
    },
    {
      "cell_type": "markdown",
      "source": [
        "Como o ataque foi bem-sucedido, a probabilidade de um ataque por estudantes radicais é de 0,08%. Isso significa que a probabilidade de um ataque ter sido realizado por estudantes radicais é de 0,08%, pois o ataque foi bem-sucedido.\n",
        "\n",
        "Essa probabilidade é baseada nos dados históricos, que mostram que apenas 0,08% dos ataques terroristas bem-sucedidos foram cometidos por estudantes radicais. Isso inclui informações sobre ataques cometidos por grupos como o Exército Vermelho Japonês e o Grupo Baader-Meinhof.\n"
      ],
      "metadata": {
        "id": "dlgs5eDp-wdV"
      }
    },
    {
      "cell_type": "code",
      "source": [
        "import pandas as pd\n",
        "\n",
        "data = pd.read_csv('dataset.csv', encoding='latin1')\n",
        "\n",
        "P_G = len(data[data['gname'] == 'White extremists']) / len(data)\n",
        "\n",
        "P_S = len(data[data['success'] == 1]) / len(data)\n",
        "\n",
        "P_S_given_G = len(data[(data['gname'] == 'White extremists') & (data['success'] == 1)]) / len(data[data['gname'] == 'White extremists'])\n",
        "\n",
        "P_G_given_S = (P_S_given_G * P_G) / P_S\n",
        "\n",
        "print(f\"A probabilidade de um ataque ser realizado por White extremists, dado que foi bem-sucedido, é: {P_G_given_S:.2%}\")\n"
      ],
      "metadata": {
        "colab": {
          "base_uri": "https://localhost:8080/"
        },
        "id": "8hezEwSW-xkS",
        "outputId": "0f997115-65bc-45d0-8834-da9e1643856b"
      },
      "execution_count": null,
      "outputs": [
        {
          "output_type": "stream",
          "name": "stderr",
          "text": [
            "<ipython-input-15-ba88224daa76>:3: DtypeWarning: Columns (4,6,31,33,61,62,63,76,79,90,92,94,96,114,115,121) have mixed types. Specify dtype option on import or set low_memory=False.\n",
            "  data = pd.read_csv('globalterrorismdb_0718dist (1).csv', encoding='latin1')\n"
          ]
        },
        {
          "output_type": "stream",
          "name": "stdout",
          "text": [
            "A probabilidade de um ataque ser realizado por White extremists, dado que foi bem-sucedido, é: 0.06%\n"
          ]
        }
      ]
    },
    {
      "cell_type": "markdown",
      "source": [
        "É uma probabilidade de 0,06% de um ataque terrorista ser bem-sucedido por um grupo extremista branco. Isso significa que, de todos os ataques terroristas bem-sucedidos realizados nos EUA, apenas 0,06% foram realizados por grupos extremistas brancos.\n"
      ],
      "metadata": {
        "id": "VPcdltq5b0ev"
      }
    },
    {
      "cell_type": "markdown",
      "source": [
        "# Definição de novas variáveis aleatórias"
      ],
      "metadata": {
        "id": "MxfCdSPOb2Um"
      }
    },
    {
      "cell_type": "code",
      "source": [
        "import pandas as pd\n",
        "import random\n",
        "\n",
        "data = pd.read_csv('dataset.csv', encoding='latin1')\n",
        "\n",
        "def atribuir_motivo_ataque(row):\n",
        "\n",
        "    if row['success'] == 1 and row['targtype1'] in [1, 2, 3, 4]:\n",
        "        return 'Político'\n",
        "    elif row['success'] == 1 and row['targtype1'] in [6, 7, 8]:\n",
        "        return 'Religioso'\n",
        "    elif row['success'] == 1 and row['targtype1'] in [10, 11, 12]:\n",
        "        return 'Econômico'\n",
        "    else:\n",
        "        return 'Outro'\n",
        "\n",
        "data['Motivo_Aleatorio'] = data.apply(atribuir_motivo_ataque, axis=1)\n",
        "\n",
        "print(data[['eventid', 'success', 'targtype1', 'Motivo_Aleatorio']].sample(10))\n"
      ],
      "metadata": {
        "id": "CDixiEkab99I"
      },
      "execution_count": null,
      "outputs": []
    },
    {
      "cell_type": "code",
      "source": [
        "import pandas as pd\n",
        "import random\n",
        "\n",
        "data = pd.read_csv('dataset.csv', encoding='latin1')\n",
        "\n",
        "def categorizar_gravidade(row):\n",
        "    if row['nkill'] == 0:\n",
        "        return 'Baixa'\n",
        "    elif 1 <= row['nkill'] <= 10:\n",
        "        return 'Média'\n",
        "    else:\n",
        "        return 'Alta'\n",
        "\n",
        "data['Ataque_Agrupado'] = data.apply(categorizar_gravidade, axis=1)\n",
        "\n",
        "print(data[['eventid', 'nkill', 'Ataque_Agrupado']].sample(10))\n"
      ],
      "metadata": {
        "id": "NwF2I5CrczH8"
      },
      "execution_count": null,
      "outputs": []
    },
    {
      "cell_type": "markdown",
      "source": [
        "# Função Probabilidade"
      ],
      "metadata": {
        "id": "E_QkN1iVc7_8"
      }
    },
    {
      "cell_type": "code",
      "source": [
        "import pandas as pd\n",
        "\n",
        "data = pd.read_csv('dataset.csv', encoding='latin1')\n",
        "\n",
        "grupo_alvo = 'Taliban'\n",
        "\n",
        "ano_alvo = 2010\n",
        "\n",
        "total_eventos = len(data)\n",
        "eventos_grupo_alvo = len(data[(data['gname'] == grupo_alvo) & (data['iyear'] == ano_alvo)])\n",
        "\n",
        "probabilidade = eventos_grupo_alvo / total_eventos\n",
        "\n",
        "print(f\"A probabilidade de um ataque ser realizado pelo {grupo_alvo} em {ano_alvo} é: {probabilidade:.2%}\")\n"
      ],
      "metadata": {
        "colab": {
          "base_uri": "https://localhost:8080/"
        },
        "id": "XPMEg3zXdCLG",
        "outputId": "3cd2120f-0ace-4665-d804-33d47d130cca"
      },
      "execution_count": null,
      "outputs": [
        {
          "output_type": "stream",
          "name": "stderr",
          "text": [
            "<ipython-input-11-a3bc2f6637b9>:4: DtypeWarning: Columns (4,6,31,33,61,62,63,76,79,90,92,94,96,114,115,121) have mixed types. Specify dtype option on import or set low_memory=False.\n",
            "  data = pd.read_csv('globalterrorismdb_0718dist (1).csv', encoding='latin1')\n"
          ]
        },
        {
          "output_type": "stream",
          "name": "stdout",
          "text": [
            "A probabilidade de um ataque ser realizado por Taliban em 2010 é: 0.17%\n"
          ]
        }
      ]
    },
    {
      "cell_type": "markdown",
      "source": [
        "A probabilidade de que o Taliban realize um ataque terrorista em 2010 é de 0,17%. Isso significa que apenas 0,17% dos ataques terroristas realizados em 2010 foram cometidos pelo Taliban.\n",
        "\n",
        "É fundamental levar em consideração o contexto em que a probabilidade foi calculada para obter uma melhor compreensão dela. O Taliban era um dos maiores grupos terroristas do mundo em 2010.O grupo estava envolvido em uma guerra civil no Afeganistão e havia realizado ataques em vários países, incluindo os EUA.\n",
        "\n",
        "No entanto, o Taliban ainda foi responsável por uma pequena porcentagem dos ataques terroristas que ocorreram em 2010, apesar de ser um dos grupos terroristas mais conhecidos do mundo. Isso se deve ao fato de que vários outros grupos terroristas estavam ativos naquela época, como o Estado Islâmico e o Al-Qaeda.\n"
      ],
      "metadata": {
        "id": "THBJskQPeV4H"
      }
    },
    {
      "cell_type": "code",
      "source": [
        "import pandas as pd\n",
        "\n",
        "data = pd.read_csv('dataset.csv', encoding='latin1')\n",
        "\n",
        "tipo_arma_alvo = 6\n",
        "\n",
        "regiao_alvo = 'Middle East & North Africa'\n",
        "\n",
        "ano_inicio = 2000\n",
        "ano_fim = 2010\n",
        "\n",
        "dados_filtrados = data[\n",
        "    (data['weaptype1'] == tipo_arma_alvo) &\n",
        "    (data['region_txt'] == regiao_alvo) &\n",
        "    (data['iyear'] >= ano_inicio) &\n",
        "    (data['iyear'] <= ano_fim)\n",
        "]\n",
        "\n",
        "total_eventos = len(data)\n",
        "eventos_filtrados = len(dados_filtrados)\n",
        "\n",
        "probabilidade = eventos_filtrados / total_eventos\n",
        "\n",
        "print(f\"A probabilidade de ataques com explosivos na região {regiao_alvo} entre {ano_inicio} e {ano_fim} é: {probabilidade:.2%}\")\n"
      ],
      "metadata": {
        "colab": {
          "base_uri": "https://localhost:8080/"
        },
        "id": "yujDAm8jeoD3",
        "outputId": "50ec085e-0ef5-47d4-f6cf-9f425d54e68b"
      },
      "execution_count": null,
      "outputs": [
        {
          "output_type": "stream",
          "name": "stderr",
          "text": [
            "<ipython-input-12-3f78f8194d61>:3: DtypeWarning: Columns (4,6,31,33,61,62,63,76,79,90,92,94,96,114,115,121) have mixed types. Specify dtype option on import or set low_memory=False.\n",
            "  data = pd.read_csv('globalterrorismdb_0718dist (1).csv', encoding='latin1')\n"
          ]
        },
        {
          "output_type": "stream",
          "name": "stdout",
          "text": [
            "A probabilidade de ataques com explosivos na região Middle East & North Africa entre 2000 e 2010 é: 3.58%\n"
          ]
        }
      ]
    },
    {
      "cell_type": "markdown",
      "source": [
        "A probabilidade de ataques com explosivos na região do Médio Oriente e Norte da África foi de 3,58% entre 2000 e 2010. Isso indica que, de todos os ataques terroristas que ocorreram na região ao longo desse período, 3,58% foram de natureza explosiva.\n",
        "\n",
        "Essa probabilidade é baseada em dados do Global Terrorism Database, um banco de dados que a Universidade de Maryland criou sobre ataques terroristas. O tipo de ataque, o local e o número de vítimas são registrados no banco de dados.\n",
        "\n",
        "A região do Médio Oriente e Norte da África é conhecida por sua política instável e violência. A região foi palco de muitas guerras armadas, como a Guerra do Iraque, a Guerra Civil Síria e a Guerra Civil Líbia. Os ataques terroristas aumentaram como resultado desses conflitos.\n"
      ],
      "metadata": {
        "id": "OkwfvJnzgEXV"
      }
    },
    {
      "cell_type": "markdown",
      "source": [
        "# Função Repartição"
      ],
      "metadata": {
        "id": "l2g9BqbOU5SJ"
      }
    },
    {
      "cell_type": "code",
      "source": [
        "import pandas as pd\n",
        "\n",
        "gtd_data = pd.read_csv('dataset.csv', encoding= 'latin1')\n",
        "\n",
        "incidentes_por_ano = gtd_data['iyear'].value_counts().reset_index()\n",
        "incidentes_por_ano.columns = ['Ano', 'Número de Incidentes']\n",
        "\n",
        "incidentes_por_ano = incidentes_por_ano.sort_values(by='Ano')\n",
        "\n",
        "print(incidentes_por_ano)\n"
      ],
      "metadata": {
        "id": "o-VFZmZaV2Qe"
      },
      "execution_count": null,
      "outputs": []
    },
    {
      "cell_type": "code",
      "source": [
        "import pandas as pd\n",
        "\n",
        "gtd_data = pd.read_csv('dataset.csv', encoding= 'latin1')\n",
        "\n",
        "def top_n_years_with_most_incidents(df, n=3):\n",
        "    incidentes_por_ano = df['iyear'].value_counts().reset_index()\n",
        "    incidentes_por_ano.columns = ['Ano', 'Número de Incidentes']\n",
        "\n",
        "    incidentes_por_ano = incidentes_por_ano.sort_values(by='Número de Incidentes', ascending=False)\n",
        "\n",
        "    top_n_anos = incidentes_por_ano.head(n)\n",
        "\n",
        "    print(f\"Os {n} anos com mais incidentes:\")\n",
        "    for index, row in top_n_anos.iterrows():\n",
        "        print(f\"Ano: {row['Ano']}, Número de Incidentes: {row['Número de Incidentes']}\")\n",
        "\n",
        "top_n_years_with_most_incidents(gtd_data, n=3)\n"
      ],
      "metadata": {
        "colab": {
          "base_uri": "https://localhost:8080/"
        },
        "id": "Lc7L_-xSU9qU",
        "outputId": "8ff9f660-14f1-4149-8db8-1f09e083b0e1"
      },
      "execution_count": null,
      "outputs": [
        {
          "output_type": "stream",
          "name": "stderr",
          "text": [
            "<ipython-input-5-58c51b25788a>:4: DtypeWarning: Columns (4,6,31,33,61,62,63,76,79,90,92,94,96,114,115,121) have mixed types. Specify dtype option on import or set low_memory=False.\n",
            "  gtd_data = pd.read_csv('dataset.csv', encoding= 'latin1')\n"
          ]
        },
        {
          "output_type": "stream",
          "name": "stdout",
          "text": [
            "Os 3 anos com mais incidentes:\n",
            "Ano: 2014, Número de Incidentes: 16903\n",
            "Ano: 2015, Número de Incidentes: 14965\n",
            "Ano: 2016, Número de Incidentes: 13587\n"
          ]
        }
      ]
    },
    {
      "cell_type": "markdown",
      "source": [
        "2014, 2015 e 2016 foram os anos em que houve mais ataques terroristas. Uma variedade de fatores contribuíram para o aumento do terrorismo nos últimos anos, incluindo:\n",
        "\n",
        "\n",
        "o surgimento do grupo terrorista extremista conhecido como Estado Islâmico do Iraque e do Levante (ISIS), que cometeu vários ataques na Síria, Iraque e em várias outras nações.\n",
        "\n",
        "A guerra civil na Síria, que facilitou o terrorismo.\n",
        "\n",
        "O aumento do extremismo religioso resultou em um aumento no número de ataques terroristas motivados por motivos religiosos.\n",
        "\n",
        "No período, um dos principais responsáveis pelo aumento do terrorismo foi o Estado Islâmico (ISIS). O grupo cometeu vários ataques violentos, incluindo ataques suicidas, massacres e execuções, na Síria, Iraque e outras nações. Além disso, o ISIS contratou e treinou terroristas em todo o mundo, aumentando o terrorismo em outros lugares.\n",
        "\n",
        "A guerra civil na Síria também contribuiu para o aumento do terrorismo. A guerra deixou o mundo confuso e instável, o que facilitou an atividade de grupos terroristas. Por exemplo, o ISIS aproveitou a guerra para se estabelecer e expandir na Síria.\n",
        "\n",
        "O aumento do terrorismo também foi causado pelo aumento do extremismo religioso. O extremismo religioso pode levar an uma interpretação extremista do Islamismo que justifique a violência contra os cidadãos comuns. Os ataques terroristas em países como Estados Unidos, França e Bélgica foram motivados por esse tipo de extremismo.\n",
        "\n"
      ],
      "metadata": {
        "id": "_NnCZNlyWWMt"
      }
    },
    {
      "cell_type": "code",
      "source": [
        "import pandas as pd\n",
        "import matplotlib.pyplot as plt\n",
        "\n",
        "df = pd.read_csv(\"dataset.csv\", encoding='latin1')\n",
        "\n",
        "df = df[['iyear', 'eventid']]\n",
        "\n",
        "yearly_counts = df['iyear'].value_counts().reset_index()\n",
        "yearly_counts.columns = ['Year', 'Count']\n",
        "\n",
        "yearly_counts = yearly_counts.sort_values(by='Year')\n",
        "\n",
        "yearly_counts['Cumulative Probability'] = yearly_counts['Count'].cumsum() / yearly_counts['Count'].sum()\n",
        "\n",
        "plt.figure(figsize=(10, 6))\n",
        "plt.plot(yearly_counts['Year'], yearly_counts['Cumulative Probability'], marker='o', linestyle='-', color='b')\n",
        "plt.title('Probabilidade de Distribuição Cumulativa de Ataques Terroristas por Ano')\n",
        "plt.xlabel('Ano')\n",
        "plt.ylabel('Probabilidade Cumulativa')\n",
        "plt.grid(True)\n",
        "plt.show()\n"
      ],
      "metadata": {
        "colab": {
          "base_uri": "https://localhost:8080/",
          "height": 619
        },
        "id": "yCt2h3KyXCPR",
        "outputId": "35fdccb0-1398-48af-fa9c-4aeec84e7a4d"
      },
      "execution_count": null,
      "outputs": [
        {
          "output_type": "stream",
          "name": "stderr",
          "text": [
            "<ipython-input-9-f497dbbde0ab>:5: DtypeWarning: Columns (4,6,31,33,61,62,63,76,79,90,92,94,96,114,115,121) have mixed types. Specify dtype option on import or set low_memory=False.\n",
            "  df = pd.read_csv(\"dataset.csv\", encoding='latin1')\n"
          ]
        },
        {
          "output_type": "display_data",
          "data": {
            "text/plain": [
              "<Figure size 1000x600 with 1 Axes>"
            ],
            "image/png": "[encoded data removed]"
          },
          "metadata": {}
        }
      ]
    },
    {
      "cell_type": "markdown",
      "source": [
        "Os anos 90 tiveram menos ataques terroristas do que os anos 2000 e 2010 porque:\n",
        "\n",
        "Após o fim da Guerra Fria, houve menos conflitos entre nações, o que resultou em uma redução no terrorismo patrocinado pelo Estado.\n",
        "O surgimento do grupo terrorista radical ISIS provocou um aumento no terrorismo motivado pela religião.\n",
        "A guerra civil na Síria deixou o país caótico e instável, o que permitiu que os grupos terroristas agissem.\n",
        "Em outras palavras, os anos 90 foram uma época de paz e estabilidade em todo o mundo, o que ajudou a reduzir o nível de terrorismo. Por outro lado, os anos 2000 e 2010 foram marcados por conflitos e instabilidade, o que resultou em um aumento no número de casos de terrorismo.\n",
        "\n",
        "\n",
        "Aqui estão alguns exemplos específicos de ataques terroristas que ocorreram nos anos 90 e nos anos 2000 e 2010:\n",
        "\n",
        "Anos 90:\n",
        "\n",
        "1993: Atentados do World Trade Center\n",
        "\n",
        "1995: Bombardeio do edifício Alfred P. Murrah em Oklahoma City\n",
        "\n",
        "1998: Atentados contra as embaixadas dos Estados Unidos em Nairóbi e Dar es Salaam\n",
        "\n",
        "Anos 2000 e 2010:\n",
        "\n",
        "2001: Atentados de 11 de setembro de 2001\n",
        "\n",
        "2004: Atentados de Madrid\n",
        "\n",
        "2005: Atentados de Londres\n",
        "\n",
        "2014: Atentados em Paris\n",
        "\n",
        "2015: Atentados em Bruxelas\n",
        "\n",
        "2016: Atentados em Nice\n",
        "\n",
        "2017: Atentados em Manchester\n",
        "\n",
        "2019: Atentados em Christchurch\n",
        "\n",
        "Essas são apenas algumas das muitas ocorrências de terrorismo que ocorreram nos anos 90 e nos anos 2000 e 2010. É um fenômeno complexo e multifacetado que continua a ser uma ameaça à segurança global.\n",
        "\n"
      ],
      "metadata": {
        "id": "EQLgyQ5SZLic"
      }
    },
    {
      "cell_type": "code",
      "source": [
        "import pandas as pd\n",
        "import matplotlib.pyplot as plt\n",
        "\n",
        "df = pd.read_csv(\"dataset.csv\", encoding='latin1')\n",
        "\n",
        "df = df[['iyear', 'attacktype1_txt']]\n",
        "\n",
        "attack_counts = df.groupby(['iyear', 'attacktype1_txt']).size().unstack(fill_value=0)\n",
        "\n",
        "attack_cumulative = attack_counts.cumsum() / attack_counts.sum()\n",
        "\n",
        "selected_attacks = ['Bombing/Explosion', 'Armed Assault', 'Assassination']\n",
        "plt.figure(figsize=(12, 6))\n",
        "for attack_type in selected_attacks:\n",
        "    plt.plot(attack_cumulative.index, attack_cumulative[attack_type], marker='o', label=attack_type)\n",
        "\n",
        "plt.title('Probabilidade de Distribuição Cumulativa de Tipos de Ataques Terroristas por Ano')\n",
        "plt.xlabel('Ano')\n",
        "plt.ylabel('Probabilidade Cumulativa')\n",
        "plt.legend()\n",
        "plt.grid(True)\n",
        "plt.show()\n"
      ],
      "metadata": {
        "colab": {
          "base_uri": "https://localhost:8080/",
          "height": 619
        },
        "id": "jUhGHNgpZ1BK",
        "outputId": "e3d3beb3-5ced-4f03-c1eb-b8247c633c5b"
      },
      "execution_count": null,
      "outputs": [
        {
          "output_type": "stream",
          "name": "stderr",
          "text": [
            "<ipython-input-10-6f9e06e3055c>:5: DtypeWarning: Columns (4,6,31,33,61,62,63,76,79,90,92,94,96,114,115,121) have mixed types. Specify dtype option on import or set low_memory=False.\n",
            "  df = pd.read_csv(\"dataset.csv\", encoding='latin1')\n"
          ]
        },
        {
          "output_type": "display_data",
          "data": {
            "text/plain": [
              "<Figure size 1200x600 with 1 Axes>"
            ],
            "image/png": "[encoded data removed]"
          },
          "metadata": {}
        }
      ]
    },
    {
      "cell_type": "markdown",
      "source": [
        "De 1990 a 2000, a taxa de homicídios foi significativamente maior do que assaltos e bombardeios armados devido a vários fatores, incluindo:\n",
        "\n",
        "O abuso de drogas está aumentando. A violência relacionada às drogas aumentou nos anos 1990, principalmente nos Estados Unidos. O aumento do tráfico de crack e cocaína foi um fator contribuinte.\n",
        "A inequidade social O aumento da violência nos anos 1990 também foi causado pela desigualdade social. As pessoas que vivem em locais de pobreza e privação são mais propensas a se envolver em atividades violentas.\n",
        "A cultura que incentiva a violência O aumento da violência nos anos 1990 pode ter sido causado pela cultura da violência. Filmes, música e outros tipos de comunicação, o que pode ter incentivado as pessoas a se envolverem em violência.\n",
        "\n",
        "Taxa de assassinato nos Estados Unidos:\n",
        "\n",
        "1990: 9,8 por 100.000 habitantes\n",
        "\n",
        "2000: 5,7 por 100.000 habitantes\n",
        "\n",
        "Taxa de assassinato no Brasil:\n",
        "\n",
        "1990: 29,0 por 100.000 habitantes\n",
        "\n",
        "2000: 25,4 por 100.000 habitantes\n",
        "\n",
        "Taxa de assassinato no México:\n",
        "\n",
        "1990: 18,0 por 100.000 habitantes\n",
        "\n",
        "2000: 22,0 por 100.000 habitantes\n",
        "\n",
        "É importante ressaltar que a taxa de assassinato é um indicador complexo que pode ser influenciado por uma série de fatores. No entanto, os fatores mencionados acima são alguns dos que podem ter contribuído para o aumento da taxa de assassinato nos anos 1990 e 2000.\n"
      ],
      "metadata": {
        "id": "p77mx95waagt"
      }
    },
    {
      "cell_type": "code",
      "source": [
        "import pandas as pd\n",
        "\n",
        "df = pd.read_csv(\"dataset.csv\", encoding='latin1')\n",
        "\n",
        "df = df[['iyear', 'attacktype1_txt']]\n",
        "\n",
        "unique_attack_types = df['attacktype1_txt'].unique()\n",
        "\n",
        "result_df = pd.DataFrame(columns=['Year'] + list(unique_attack_types))\n",
        "result_df['Year'] = df['iyear'].unique()\n",
        "result_df = result_df.set_index('Year')\n",
        "\n",
        "for year in result_df.index:\n",
        "    year_data = df[df['iyear'] <= year]\n",
        "    year_counts = year_data['attacktype1_txt'].value_counts(normalize=True)\n",
        "    for attack_type in year_counts.index:\n",
        "        result_df.at[year, attack_type] = year_counts[attack_type]\n",
        "\n",
        "print(result_df)\n"
      ],
      "metadata": {
        "colab": {
          "base_uri": "https://localhost:8080/"
        },
        "id": "gOB_L9g9arYO",
        "outputId": "38487f82-e2de-48ba-a39e-e1ad6b6c1d27"
      },
      "execution_count": null,
      "outputs": [
        {
          "output_type": "stream",
          "name": "stderr",
          "text": [
            "<ipython-input-11-aeca192c085d>:3: DtypeWarning: Columns (4,6,31,33,61,62,63,76,79,90,92,94,96,114,115,121) have mixed types. Specify dtype option on import or set low_memory=False.\n",
            "  df = pd.read_csv(\"dataset.csv\", encoding='latin1')\n"
          ]
        },
        {
          "output_type": "stream",
          "name": "stdout",
          "text": [
            "     Assassination Hostage Taking (Kidnapping) Bombing/Explosion  \\\n",
            "Year                                                               \n",
            "1970      0.033794                    0.058372          0.511521   \n",
            "1971      0.081996                    0.051693          0.509804   \n",
            "1972      0.211243                    0.043787          0.449704   \n",
            "1973      0.240869                    0.054092           0.42025   \n",
            "1974      0.247449                    0.056122          0.435131   \n",
            "1975      0.246843                    0.051952          0.448909   \n",
            "1976      0.241434                    0.051282          0.449966   \n",
            "1977      0.211317                     0.05117          0.457213   \n",
            "1978      0.203116                    0.053778          0.449807   \n",
            "1979      0.201634                    0.054065          0.435747   \n",
            "1980      0.208095                    0.053753          0.422789   \n",
            "1981      0.199314                    0.052632          0.422042   \n",
            "1986      0.163104                    0.044093          0.453461   \n",
            "1982      0.191065                       0.051          0.424941   \n",
            "1983      0.181911                    0.049913          0.426225   \n",
            "1984      0.173902                    0.045864          0.438121   \n",
            "1985      0.166642                    0.045209          0.445713   \n",
            "1987      0.162372                    0.042841          0.454479   \n",
            "1988      0.168272                    0.041469          0.453333   \n",
            "1989      0.174417                    0.040269           0.44936   \n",
            "1990      0.178844                    0.040524          0.449011   \n",
            "1991      0.176678                    0.041173          0.446701   \n",
            "1992      0.180609                    0.039952          0.437065   \n",
            "1994      0.183132                    0.040862          0.430919   \n",
            "1995      0.185823                    0.041109          0.422158   \n",
            "1996      0.184419                    0.041564          0.421039   \n",
            "1997      0.181907                    0.044025          0.417734   \n",
            "1998      0.179775                    0.044053          0.419398   \n",
            "1999      0.177058                    0.044805          0.420356   \n",
            "2000      0.174013                    0.045415          0.422331   \n",
            "2001       0.17123                     0.04621          0.422263   \n",
            "2002      0.169157                    0.046442          0.424361   \n",
            "2003      0.167474                    0.046267          0.426287   \n",
            "2004      0.166294                    0.046565          0.428381   \n",
            "2005      0.164902                    0.046894          0.430901   \n",
            "2006      0.161068                    0.047779          0.434769   \n",
            "2007      0.156591                    0.048576          0.440117   \n",
            "2008      0.150674                    0.050291          0.446187   \n",
            "2009      0.145579                    0.050729          0.451052   \n",
            "2010      0.142144                    0.052196          0.454394   \n",
            "2011      0.138521                    0.053131            0.4571   \n",
            "2012      0.132171                    0.052251          0.467582   \n",
            "2013      0.126285                    0.052291          0.476016   \n",
            "2014      0.117745                    0.055899           0.48131   \n",
            "2015      0.112434                    0.058192          0.484231   \n",
            "2016      0.108296                    0.060191          0.487327   \n",
            "2017       0.10629                    0.061412          0.485742   \n",
            "\n",
            "     Facility/Infrastructure Attack Armed Assault Hijacking   Unknown  \\\n",
            "Year                                                                    \n",
            "1970                       0.267281      0.093702  0.016897  0.009217   \n",
            "1971                       0.233512      0.093583  0.015152  0.008021   \n",
            "1972                       0.166272      0.099408   0.01716  0.005917   \n",
            "1973                       0.146556      0.106334  0.017106  0.005086   \n",
            "1974                       0.130831      0.100583  0.014577  0.004373   \n",
            "1975                       0.121412      0.102468  0.011768  0.004305   \n",
            "1976                       0.121625      0.109145  0.010211  0.004538   \n",
            "1977                       0.125393      0.128537  0.009081  0.005938   \n",
            "1978                       0.123966      0.134721   0.00717  0.011859   \n",
            "1979                       0.110551      0.143635  0.006153  0.028445   \n",
            "1980                       0.100588      0.158874  0.005964  0.030216   \n",
            "1981                       0.093391      0.177747  0.006134  0.029943   \n",
            "1986                       0.071936      0.210614  0.004992  0.035214   \n",
            "1982                       0.088332      0.189766  0.005704  0.030103   \n",
            "1983                       0.082912      0.204705  0.005297   0.03125   \n",
            "1984                       0.077604      0.209173  0.005401  0.033235   \n",
            "1985                       0.074335      0.210998  0.005373  0.034611   \n",
            "1987                       0.068637      0.214478  0.004572  0.036756   \n",
            "1988                       0.065796       0.21785  0.004354  0.034095   \n",
            "1989                       0.064712      0.222209  0.004212   0.03092   \n",
            "1990                       0.063344      0.222482  0.004026  0.028536   \n",
            "1991                       0.064479      0.227097   0.00415  0.027133   \n",
            "1992                        0.06713      0.230302  0.004204  0.028036   \n",
            "1994                        0.06639      0.230648   0.00459  0.029877   \n",
            "1995                       0.067883      0.231127  0.004849  0.032162   \n",
            "1996                       0.068014      0.230058  0.004976  0.035158   \n",
            "1997                       0.066823      0.231398  0.004977  0.038648   \n",
            "1998                       0.066758      0.232098  0.004953  0.038456   \n",
            "1999                       0.067057      0.232717   0.00494  0.038247   \n",
            "2000                       0.066909      0.233706  0.004913  0.037879   \n",
            "2001                       0.067187      0.235562  0.004976  0.037509   \n",
            "2002                       0.066645       0.23627  0.004967  0.037175   \n",
            "2003                       0.066682      0.236441  0.004923  0.036906   \n",
            "2004                       0.066104      0.236225  0.004862  0.036686   \n",
            "2005                       0.065054      0.236673  0.004764  0.036232   \n",
            "2006                       0.064172      0.237723   0.00464   0.03549   \n",
            "2007                       0.063081      0.238641  0.004546  0.034493   \n",
            "2008                       0.062881      0.238046  0.004481  0.033831   \n",
            "2009                        0.06342      0.237953  0.004501  0.033591   \n",
            "2010                       0.063289      0.237608  0.004413  0.033129   \n",
            "2011                       0.062532      0.239411  0.004285  0.032602   \n",
            "2012                       0.060521      0.239806  0.004007  0.031756   \n",
            "2013                       0.059209       0.24041  0.003758  0.030749   \n",
            "2014                       0.057678      0.240461  0.003656  0.032607   \n",
            "2015                       0.056672      0.238995   0.00355  0.035171   \n",
            "2016                       0.056238      0.235984  0.003519  0.037771   \n",
            "2017                       0.056998      0.234844  0.003627  0.040046   \n",
            "\n",
            "     Unarmed Assault Hostage Taking (Barricade Incident)  \n",
            "Year                                                      \n",
            "1970        0.004608                            0.004608  \n",
            "1971        0.002674                            0.003565  \n",
            "1972        0.001775                            0.004734  \n",
            "1973        0.002774                            0.006935  \n",
            "1974        0.003644                            0.007289  \n",
            "1975         0.00287                            0.009472  \n",
            "1976         0.00295                             0.00885  \n",
            "1977         0.00227                            0.009081  \n",
            "1978        0.002482                              0.0131  \n",
            "1979        0.002522                            0.017248  \n",
            "1980        0.002147                            0.017573  \n",
            "1981        0.001979                            0.016818  \n",
            "1986        0.001776                            0.014809  \n",
            "1982        0.001864                            0.017226  \n",
            "1983        0.001701                            0.016087  \n",
            "1984        0.001745                            0.014956  \n",
            "1985        0.001742                            0.015378  \n",
            "1987        0.001695                            0.014169  \n",
            "1988         0.00166                             0.01317  \n",
            "1989         0.00168                            0.012222  \n",
            "1990         0.00169                            0.011543  \n",
            "1991        0.001813                            0.010777  \n",
            "1992        0.002522                             0.01018  \n",
            "1994        0.003421                             0.01016  \n",
            "1995        0.005012                            0.009877  \n",
            "1996        0.005131                            0.009641  \n",
            "1997        0.005259                            0.009229  \n",
            "1998        0.005406                            0.009103  \n",
            "1999        0.005814                            0.009007  \n",
            "2000        0.006029                            0.008807  \n",
            "2001         0.00643                            0.008633  \n",
            "2002         0.00645                            0.008533  \n",
            "2003        0.006604                            0.008416  \n",
            "2004        0.006556                            0.008328  \n",
            "2005        0.006465                            0.008116  \n",
            "2006        0.006431                            0.007929  \n",
            "2007        0.006257                            0.007698  \n",
            "2008        0.006267                            0.007343  \n",
            "2009        0.006155                             0.00702  \n",
            "2010        0.006068                             0.00676  \n",
            "2011        0.005965                            0.006452  \n",
            "2012        0.005781                            0.006125  \n",
            "2013        0.005537                            0.005745  \n",
            "2014        0.005259                            0.005385  \n",
            "2015        0.005362                            0.005394  \n",
            "2016        0.005352                            0.005322  \n",
            "2017        0.005586                            0.005454  \n"
          ]
        }
      ]
    },
    {
      "cell_type": "markdown",
      "source": [
        "O resultado é uma tabela que representa a probabilidade de distribuição cumulativa dos vários tipos de ataques terroristas ao longo dos anos. Cada linha representa um ano e cada coluna representa um tipo de ataque. A probabilidade de que um ataque do tipo correspondente ocorra até o ano especificado é chamada de probabilidade de distribuição cumulativa.\n",
        "\n",
        "Ano: Os anos em que os dados foram coletados são mostrados na primeira coluna.\n",
        "\n",
        "Tipos de Ataque: Os vários tipos de ataques terroristas são representados nas colunas a seguir. Eles incluem assassinato, prisão de hospedeiro (prisão), bombas/explosões, ataques an instalações ou infraestruturas, ataques armados, prisão de hospedeiro (prisão), ataques sem armas, ataques sem armas e prisão de hospedeiro (prisão).\n",
        "\n",
        "Probabilidade de Distribuição Cumulativa: A probabilidade de que um tipo específico de ataque ocorreu até o ano correspondente é mostrada por valores na tabela. Por exemplo, a probabilidade cumulativa de um \"assassinato\" era de aproximadamente 0,0337 em 1970, o que significa que aproximadamente 3,37% dos ataques que ocorreram até 1970 foram assassinatos.\n",
        "\n",
        "Interpretação: A evolução da probabilidade cumulativa de diferentes tipos de ataques terroristas ao longo do tempo pode ser vista na tabela. Por exemplo, você pode ver que o tipo de ataque \"Bombing/Explosion\" tem uma probabilidade cumulativa relativamente alta ao longo dos anos. Isso indica que, em comparação com outros tipos, esse tipo de ataque é mais comum.\n"
      ],
      "metadata": {
        "id": "HrM_qsAFbbXI"
      }
    }
  ]
}